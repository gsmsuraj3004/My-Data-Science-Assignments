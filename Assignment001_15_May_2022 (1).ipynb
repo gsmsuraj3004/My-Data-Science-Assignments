{
 "cells": [
  {
   "cell_type": "markdown",
   "id": "0ee03bc8",
   "metadata": {},
   "source": [
    "Task:\n",
    "s = \"this is My First programming class and i am learNING python string and its functions\"\n",
    "1. Try to extract data from index 1 to index 300 with a jump of 3\n",
    "2. try to reverse a string without using reverse function.\n",
    "3. try to split a string after conversion of the entire string in uppercase.\n",
    "4. try to convert the whole string into lower case. \n",
    "5. try to capitalize the whole string\n",
    "6. write a difference between isalnum() and isalpha()\n",
    "7. try to give an example of expand tab. \n",
    "8. give an example of strip , lstrip and rstrip. \n",
    "9. replace a string character by another character by taking your own example.\n",
    "10. try to give a definition of strinhg center function with and example. \n",
    "11. write your own definition of compiler and interpreter without copy paste from internet in your own language.\n",
    "12. python is a interpreted of compiled language give a clear ans with your understanding. \n",
    "13. try to write a usecase of python with your understanding. "
   ]
  },
  {
   "cell_type": "markdown",
   "id": "335f9886",
   "metadata": {},
   "source": [
    "# 1. Try to extract data from index 1 to index 300 with a jump of 3\n",
    "\n",
    "s = \"this is My First programming class and i am learNING python string and its functions\""
   ]
  },
  {
   "cell_type": "code",
   "execution_count": 3,
   "id": "11dfabc7",
   "metadata": {},
   "outputs": [
    {
     "name": "stdout",
     "output_type": "stream",
     "text": [
      "h   r oai a d  aI tntna sutn\n"
     ]
    }
   ],
   "source": [
    "s = \"this is My First programming class and i am learNING python string and its functions\"\n",
    "\n",
    "data_extract = s[1:300:3]\n",
    "print(data_extract)"
   ]
  },
  {
   "cell_type": "markdown",
   "id": "c346550b",
   "metadata": {},
   "source": [
    "# 2. Try to reverse a string without using reverse function.\n",
    "\n",
    "    s = \"this is My First programming class and i am learNING python string and its functions\""
   ]
  },
  {
   "cell_type": "code",
   "execution_count": 5,
   "id": "b232e51f",
   "metadata": {},
   "outputs": [
    {
     "name": "stdout",
     "output_type": "stream",
     "text": [
      "snoitcnuf sti dna gnirts nohtyp GNINrael ma i dna ssalc gnimmargorp tsriF yM si siht\n"
     ]
    }
   ],
   "source": [
    "s = \"this is My First programming class and i am learNING python string and its functions\"\n",
    "\n",
    "reverse_string = s[::-1]\n",
    "print(reverse_string)"
   ]
  },
  {
   "cell_type": "markdown",
   "id": "66daf10a",
   "metadata": {},
   "source": [
    "# 3. Try to split a string after conversion of the entire string in uppercase.\n",
    "\n",
    "    s = \"this is My First programming class and i am learNING python string and its functions\""
   ]
  },
  {
   "cell_type": "code",
   "execution_count": 7,
   "id": "fb07ac7f",
   "metadata": {},
   "outputs": [
    {
     "name": "stdout",
     "output_type": "stream",
     "text": [
      "THIS IS MY FIRST PROGRAMMING CLASS AND I AM LEARNING PYTHON STRING AND ITS FUNCTIONS\n",
      "['THIS', 'IS', 'MY', 'FIRST', 'PROGRAMMING', 'CLASS', 'AND', 'I', 'AM', 'LEARNING', 'PYTHON', 'STRING', 'AND', 'ITS', 'FUNCTIONS']\n"
     ]
    }
   ],
   "source": [
    "s = \"this is My First programming class and i am learNING python string and its functions\"\n",
    "\n",
    "s_uppercase = s.upper()\n",
    "print(s_uppercase)\n",
    "\n",
    "s_uppercase_split = s_uppercase.split()\n",
    "print(s_uppercase_split)"
   ]
  },
  {
   "cell_type": "markdown",
   "id": "6894414a",
   "metadata": {},
   "source": [
    "# 4. Try to convert the whole string into lower case.\n",
    "\n",
    "    s = \"this is My First programming class and i am learNING python string and its functions\""
   ]
  },
  {
   "cell_type": "code",
   "execution_count": 8,
   "id": "11926997",
   "metadata": {},
   "outputs": [
    {
     "name": "stdout",
     "output_type": "stream",
     "text": [
      "this is my first programming class and i am learning python string and its functions\n"
     ]
    }
   ],
   "source": [
    "s = \"this is My First programming class and i am learNING python string and its functions\"\n",
    "\n",
    "s_lower = s.lower()\n",
    "print(s_lower)"
   ]
  },
  {
   "cell_type": "markdown",
   "id": "89b614ea",
   "metadata": {},
   "source": [
    "# 5. Try to capitalize the whole string\n",
    "\n",
    "    s = \"this is My First programming class and i am learNING python string and its functions\""
   ]
  },
  {
   "cell_type": "code",
   "execution_count": 9,
   "id": "1782d46f",
   "metadata": {},
   "outputs": [
    {
     "name": "stdout",
     "output_type": "stream",
     "text": [
      "This is my first programming class and i am learning python string and its functions\n"
     ]
    }
   ],
   "source": [
    "s = \"this is My First programming class and i am learNING python string and its functions\"\n",
    "\n",
    "s_capitalize = s.capitalize()\n",
    "print(s_capitalize)"
   ]
  },
  {
   "cell_type": "markdown",
   "id": "db24bd1d",
   "metadata": {},
   "source": [
    "# 6. Write a difference between isalnum() and isalpha()"
   ]
  },
  {
   "cell_type": "code",
   "execution_count": 28,
   "id": "4b605bb2",
   "metadata": {},
   "outputs": [
    {
     "name": "stdout",
     "output_type": "stream",
     "text": [
      "True\n",
      " \n",
      " In this string, result for (isalnum) command appeared true as the string contains alphanumeric characters. \n",
      "\n",
      "False\n",
      "\n",
      " However, result for (is alpha) command appeared false as the string doesn't contain 'only' alpha characters. \n",
      "\n",
      "True\n",
      " \n",
      " In this string, result for (isalnum) command appeared false as the string contains alpha characters only. \n",
      "\n",
      "True\n",
      " \n",
      " However, result for (isalpha) command appeared true as the string contains alpha characters only. \n",
      "\n"
     ]
    }
   ],
   "source": [
    "string01 = \"abcde12345\"\n",
    "\n",
    "alnum_string01 = string01.isalnum()\n",
    "print(alnum_string01)\n",
    "\n",
    "print(\" \\n In this string, result for (isalnum) command appeared true as the string contains alphanumeric characters. \\n\")\n",
    "\n",
    "alpha = string01.isalpha()\n",
    "print(alpha)\n",
    "\n",
    "print(\"\\n However, result for (is alpha) command appeared false as the string doesn't contain 'only' alpha characters. \\n\")\n",
    "\n",
    "string02 = \"abcde\"\n",
    "\n",
    "alnum_string02 = string02.isalnum()\n",
    "print(alnum_string02)\n",
    "\n",
    "print(\" \\n In this string, result for (isalnum) command appeared true as the string contains atleast alpha characters . \\n\")\n",
    "\n",
    "alpha_string02 = string02.isalpha()\n",
    "print(alpha_string02)\n",
    "\n",
    "print(\" \\n Result for (isalpha) command appeared true as the string contains alpha characters only. \\n\")\n"
   ]
  },
  {
   "cell_type": "markdown",
   "id": "60251ca5",
   "metadata": {},
   "source": [
    "# 7. Try to give an example of expand tab."
   ]
  },
  {
   "cell_type": "code",
   "execution_count": 38,
   "id": "687c841a",
   "metadata": {},
   "outputs": [
    {
     "name": "stdout",
     "output_type": "stream",
     "text": [
      "a\tb\tc\td\n",
      "a       b       c       d\n",
      "a   b   c   d\n",
      "a     b     c     d\n",
      "a       b       c       d\n",
      "a         b         c         d\n"
     ]
    }
   ],
   "source": [
    "string03 = \"a\\tb\\tc\\td\"\n",
    "\n",
    "print(string03)\n",
    "print(string03.expandtabs())\n",
    "print(string03.expandtabs(4))\n",
    "print(string03.expandtabs(6))\n",
    "print(string03.expandtabs(8))\n",
    "print(string03.expandtabs(10))"
   ]
  },
  {
   "cell_type": "markdown",
   "id": "8f5dbcdc",
   "metadata": {},
   "source": [
    "# 8. Give an example of strip , lstrip and rstrip."
   ]
  },
  {
   "cell_type": "code",
   "execution_count": 56,
   "id": "e87ae4c7",
   "metadata": {},
   "outputs": [
    {
     "data": {
      "text/plain": [
       "'abcd'"
      ]
     },
     "execution_count": 56,
     "metadata": {},
     "output_type": "execute_result"
    }
   ],
   "source": [
    "s04 = \"   abcd   \"\n",
    "\n",
    "s04.strip()"
   ]
  },
  {
   "cell_type": "code",
   "execution_count": 58,
   "id": "f042c89e",
   "metadata": {},
   "outputs": [
    {
     "data": {
      "text/plain": [
       "'abcd   '"
      ]
     },
     "execution_count": 58,
     "metadata": {},
     "output_type": "execute_result"
    }
   ],
   "source": [
    "s04.lstrip()"
   ]
  },
  {
   "cell_type": "code",
   "execution_count": 59,
   "id": "8adfa6a6",
   "metadata": {},
   "outputs": [
    {
     "data": {
      "text/plain": [
       "'   abcd'"
      ]
     },
     "execution_count": 59,
     "metadata": {},
     "output_type": "execute_result"
    }
   ],
   "source": [
    "s04.rstrip()"
   ]
  },
  {
   "cell_type": "markdown",
   "id": "9247b10a",
   "metadata": {},
   "source": [
    "# 9. Replace a string character by another character by taking your own example."
   ]
  },
  {
   "cell_type": "code",
   "execution_count": 62,
   "id": "4eb56bfd",
   "metadata": {},
   "outputs": [
    {
     "name": "stdout",
     "output_type": "stream",
     "text": [
      "hbcdef\n"
     ]
    }
   ],
   "source": [
    "s05 = \"abcdef\"\n",
    "\n",
    "s05_replace = s05.replace(s05[0], \"h\")\n",
    "print(s05_replace)"
   ]
  },
  {
   "cell_type": "code",
   "execution_count": 64,
   "id": "ee7a2c74",
   "metadata": {},
   "outputs": [
    {
     "name": "stdout",
     "output_type": "stream",
     "text": [
      "abcdem\n"
     ]
    }
   ],
   "source": [
    "s05 = \"abcdef\"\n",
    "\n",
    "s05_replace = s05.replace(s05[5], \"m\")\n",
    "print(s05_replace)"
   ]
  },
  {
   "cell_type": "markdown",
   "id": "bff8c587",
   "metadata": {},
   "source": [
    "# 10. Try to give definition of 'string center function' with an example."
   ]
  },
  {
   "cell_type": "code",
   "execution_count": 72,
   "id": "44bd16af",
   "metadata": {},
   "outputs": [
    {
     "name": "stdout",
     "output_type": "stream",
     "text": [
      "*********Data Science*********\n"
     ]
    },
    {
     "data": {
      "text/plain": [
       "\" Definition: The center() function will center align the string, using a specified character (space is default) as the fill character. Here, in this example we have used the character '*' . \""
      ]
     },
     "execution_count": 72,
     "metadata": {},
     "output_type": "execute_result"
    }
   ],
   "source": [
    "s06 = \"Data Science\"\n",
    "\n",
    "s06_center = s06.center(30, \"*\")\n",
    "print(s06_center)\n",
    "\n",
    "\"\"\" Definition: The center() function will center align the string, using a specified character (space is default) as the fill character. Here, in this example we have used the character '*' . \"\"\""
   ]
  },
  {
   "cell_type": "markdown",
   "id": "a298e196",
   "metadata": {},
   "source": [
    "# 11. Write your own definition of compiler and interpreter without copy paste from internet in your own language.\n",
    "\n",
    "Compiler: Compiler is a set of programs that runs to translate an entire set of human codes (high level language) to a computer code (Machine language) in one go. \n",
    "\n",
    "Interpreter: Interpreter is a set of program that runs to translate the human code (high level language) to computer code (machine language) one after other and displays the output.\n",
    "\n",
    "Example: \n",
    "    Reading a recipe from cooking manual and following every instruction step by step and delivering is an example of interpreter. \n",
    "    \n",
    "    However, learning and remembering the entire recipe and cooking manual in one go and then delivering is an example of compiler. \n"
   ]
  },
  {
   "cell_type": "markdown",
   "id": "95ea7a03",
   "metadata": {},
   "source": [
    "# 12. Python is a interpreted or compiled language give a clear ans with your understanding.\n",
    "\n",
    " Ans: I believe Python is an interpreted language as it processes the commands by reading each line. e.g., If we write a program of 5 lines and we make an error at line 4, then the program will run until line 4 and then it will show an error, which means it couldn't read or interpret from there and hence can not perform any action. \n",
    " \n",
    "    However, python behaves as a compiler when we write a python code and save it as .pyc file, it gets compiled into python bytecode, which creates file with extension .pyc. But it is not a compiled language as this isn't compilation in the traditional sense of the word. Typically, we’d say that compilation is taking a high-level language and converting it to machine code. But it is a compilation of sorts ehich menas Compiled into intermediate code not into machine code.\n",
    "\n",
    "    \" This is my understanding , please correct me if I am wrong.\""
   ]
  },
  {
   "cell_type": "code",
   "execution_count": 87,
   "id": "7259616b",
   "metadata": {},
   "outputs": [
    {
     "name": "stdout",
     "output_type": "stream",
     "text": [
      "hello\n",
      "apple23\n"
     ]
    },
    {
     "ename": "TypeError",
     "evalue": "can only concatenate str (not \"int\") to str",
     "output_type": "error",
     "traceback": [
      "\u001b[1;31m---------------------------------------------------------------------------\u001b[0m",
      "\u001b[1;31mTypeError\u001b[0m                                 Traceback (most recent call last)",
      "\u001b[1;32m<ipython-input-87-b5d86c466588>\u001b[0m in \u001b[0;36m<module>\u001b[1;34m\u001b[0m\n\u001b[0;32m      6\u001b[0m \u001b[0mtype\u001b[0m\u001b[1;33m(\u001b[0m\u001b[0md\u001b[0m\u001b[1;33m)\u001b[0m\u001b[1;33m\u001b[0m\u001b[1;33m\u001b[0m\u001b[0m\n\u001b[0;32m      7\u001b[0m \u001b[0mprint\u001b[0m\u001b[1;33m(\u001b[0m\u001b[0ma\u001b[0m \u001b[1;33m+\u001b[0m \u001b[0md\u001b[0m\u001b[1;33m)\u001b[0m\u001b[1;33m\u001b[0m\u001b[1;33m\u001b[0m\u001b[0m\n\u001b[1;32m----> 8\u001b[1;33m \u001b[0mc\u001b[0m \u001b[1;33m=\u001b[0m \u001b[0ma\u001b[0m \u001b[1;33m+\u001b[0m \u001b[0mb\u001b[0m\u001b[1;33m\u001b[0m\u001b[1;33m\u001b[0m\u001b[0m\n\u001b[0m\u001b[0;32m      9\u001b[0m \u001b[0mprint\u001b[0m\u001b[1;33m(\u001b[0m\u001b[0mc\u001b[0m\u001b[1;33m)\u001b[0m\u001b[1;33m\u001b[0m\u001b[1;33m\u001b[0m\u001b[0m\n",
      "\u001b[1;31mTypeError\u001b[0m: can only concatenate str (not \"int\") to str"
     ]
    }
   ],
   "source": [
    "# Example\n",
    "print(\"hello\")\n",
    "a = \"apple\"\n",
    "b = 23\n",
    "d = str (b)\n",
    "type(d)\n",
    "print(a + d)\n",
    "c = a + b\n",
    "print(c)"
   ]
  },
  {
   "cell_type": "markdown",
   "id": "c98215fa",
   "metadata": {},
   "source": [
    "# 13. Try to write a usecase of python with your understanding.\n",
    "\n",
    "    Ans:Python is best used for any backend development purpose. e.g., games, applications etc. \n",
    "        It is can also be used in data analysis as its huge library can help in performing data manipulation. \n",
    "        Python can be used for automation of certain repeated tasks. "
   ]
  }
 ],
 "metadata": {
  "kernelspec": {
   "display_name": "Python 3",
   "language": "python",
   "name": "python3"
  },
  "language_info": {
   "codemirror_mode": {
    "name": "ipython",
    "version": 3
   },
   "file_extension": ".py",
   "mimetype": "text/x-python",
   "name": "python",
   "nbconvert_exporter": "python",
   "pygments_lexer": "ipython3",
   "version": "3.8.8"
  }
 },
 "nbformat": 4,
 "nbformat_minor": 5
}
