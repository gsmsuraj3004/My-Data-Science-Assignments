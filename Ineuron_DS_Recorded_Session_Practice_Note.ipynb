{
 "cells": [
  {
   "cell_type": "code",
   "execution_count": 5,
   "id": "dd4cc9d6",
   "metadata": {},
   "outputs": [
    {
     "name": "stdout",
     "output_type": "stream",
     "text": [
      "this is my first python program\n"
     ]
    }
   ],
   "source": [
    "#Suraj - This cmd will result in displaying the word mentioned with in the parantheses.\n",
    "print(\"this is my first python program\")"
   ]
  },
  {
   "cell_type": "code",
   "execution_count": 7,
   "id": "9515dbef",
   "metadata": {},
   "outputs": [
    {
     "data": {
      "text/plain": [
       "'Abc\\ndec\\ngdf\\ngft\\nbgs\\nty'"
      ]
     },
     "execution_count": 7,
     "metadata": {},
     "output_type": "execute_result"
    }
   ],
   "source": [
    "# while writing multiple lines of comments in a cell with, then use triple quote.\n",
    "\"\"\"Abc\n",
    "dec\n",
    "gdf\n",
    "gft\n",
    "bgs\n",
    "ty\"\"\""
   ]
  },
  {
   "cell_type": "code",
   "execution_count": 8,
   "id": "4abd7b10",
   "metadata": {},
   "outputs": [],
   "source": [
    "a = 10"
   ]
  },
  {
   "cell_type": "code",
   "execution_count": 11,
   "id": "e05de197",
   "metadata": {},
   "outputs": [
    {
     "data": {
      "text/plain": [
       "10"
      ]
     },
     "execution_count": 11,
     "metadata": {},
     "output_type": "execute_result"
    }
   ],
   "source": [
    "a"
   ]
  },
  {
   "cell_type": "code",
   "execution_count": 12,
   "id": "005ca03c",
   "metadata": {},
   "outputs": [],
   "source": [
    "b = 15\n",
    "c = 13\n",
    "d = 21"
   ]
  },
  {
   "cell_type": "code",
   "execution_count": 16,
   "id": "1b56bcd2",
   "metadata": {},
   "outputs": [
    {
     "data": {
      "text/plain": [
       "142"
      ]
     },
     "execution_count": 16,
     "metadata": {},
     "output_type": "execute_result"
    }
   ],
   "source": [
    "a * b + c - d"
   ]
  },
  {
   "cell_type": "code",
   "execution_count": 18,
   "id": "7acd6322",
   "metadata": {},
   "outputs": [
    {
     "data": {
      "text/plain": [
       "int"
      ]
     },
     "execution_count": 18,
     "metadata": {},
     "output_type": "execute_result"
    }
   ],
   "source": [
    "# This function is used to check the data type.\n",
    "type(a)"
   ]
  },
  {
   "cell_type": "code",
   "execution_count": 21,
   "id": "6a26c2b3",
   "metadata": {},
   "outputs": [],
   "source": [
    "e = \"suraj\""
   ]
  },
  {
   "cell_type": "code",
   "execution_count": 22,
   "id": "0b6d8bb6",
   "metadata": {},
   "outputs": [
    {
     "data": {
      "text/plain": [
       "str"
      ]
     },
     "execution_count": 22,
     "metadata": {},
     "output_type": "execute_result"
    }
   ],
   "source": [
    "type(e)"
   ]
  },
  {
   "cell_type": "code",
   "execution_count": 2,
   "id": "db37018f",
   "metadata": {},
   "outputs": [
    {
     "name": "stdout",
     "output_type": "stream",
     "text": [
      "suraj\n"
     ]
    }
   ],
   "source": [
    "a = \"suraj\"\n",
    "print(a)"
   ]
  },
  {
   "cell_type": "code",
   "execution_count": 3,
   "id": "d279cf61",
   "metadata": {},
   "outputs": [],
   "source": [
    "# code it as a story."
   ]
  },
  {
   "cell_type": "code",
   "execution_count": 6,
   "id": "dde1867f",
   "metadata": {},
   "outputs": [],
   "source": [
    "# Data type - float\n",
    "\n",
    "a = 1.5\n",
    "b = 4.333"
   ]
  },
  {
   "cell_type": "code",
   "execution_count": 7,
   "id": "d1d4ebc6",
   "metadata": {},
   "outputs": [
    {
     "data": {
      "text/plain": [
       "float"
      ]
     },
     "execution_count": 7,
     "metadata": {},
     "output_type": "execute_result"
    }
   ],
   "source": [
    "type(a)"
   ]
  },
  {
   "cell_type": "code",
   "execution_count": 8,
   "id": "59288501",
   "metadata": {},
   "outputs": [],
   "source": [
    "# Data type - boolean\n",
    "a = True\n",
    "b = False"
   ]
  },
  {
   "cell_type": "code",
   "execution_count": 9,
   "id": "4bb94cb5",
   "metadata": {},
   "outputs": [
    {
     "data": {
      "text/plain": [
       "bool"
      ]
     },
     "execution_count": 9,
     "metadata": {},
     "output_type": "execute_result"
    }
   ],
   "source": [
    "type(a)"
   ]
  },
  {
   "cell_type": "code",
   "execution_count": 10,
   "id": "62694be4",
   "metadata": {},
   "outputs": [
    {
     "data": {
      "text/plain": [
       "4"
      ]
     },
     "execution_count": 10,
     "metadata": {},
     "output_type": "execute_result"
    }
   ],
   "source": [
    "True + True + True + False + True"
   ]
  },
  {
   "cell_type": "code",
   "execution_count": 11,
   "id": "dd147417",
   "metadata": {},
   "outputs": [
    {
     "data": {
      "text/plain": [
       "0"
      ]
     },
     "execution_count": 11,
     "metadata": {},
     "output_type": "execute_result"
    }
   ],
   "source": [
    "False - True + True"
   ]
  },
  {
   "cell_type": "code",
   "execution_count": 12,
   "id": "30cfd0b0",
   "metadata": {},
   "outputs": [
    {
     "data": {
      "text/plain": [
       "True"
      ]
     },
     "execution_count": 12,
     "metadata": {},
     "output_type": "execute_result"
    }
   ],
   "source": [
    "True"
   ]
  },
  {
   "cell_type": "code",
   "execution_count": 13,
   "id": "24421978",
   "metadata": {},
   "outputs": [
    {
     "data": {
      "text/plain": [
       "2"
      ]
     },
     "execution_count": 13,
     "metadata": {},
     "output_type": "execute_result"
    }
   ],
   "source": [
    "True + True"
   ]
  },
  {
   "cell_type": "code",
   "execution_count": 14,
   "id": "4b06275f",
   "metadata": {},
   "outputs": [
    {
     "data": {
      "text/plain": [
       "0"
      ]
     },
     "execution_count": 14,
     "metadata": {},
     "output_type": "execute_result"
    }
   ],
   "source": [
    "False + False"
   ]
  },
  {
   "cell_type": "code",
   "execution_count": 15,
   "id": "62d54e0e",
   "metadata": {},
   "outputs": [
    {
     "data": {
      "text/plain": [
       "1"
      ]
     },
     "execution_count": 15,
     "metadata": {},
     "output_type": "execute_result"
    }
   ],
   "source": [
    "True + False"
   ]
  },
  {
   "cell_type": "code",
   "execution_count": 17,
   "id": "329c0ff5",
   "metadata": {},
   "outputs": [],
   "source": [
    "# Value of True = 1 & False = 0"
   ]
  },
  {
   "cell_type": "code",
   "execution_count": 19,
   "id": "ccf289e5",
   "metadata": {},
   "outputs": [
    {
     "data": {
      "text/plain": [
       "0.0"
      ]
     },
     "execution_count": 19,
     "metadata": {},
     "output_type": "execute_result"
    }
   ],
   "source": [
    "False / True "
   ]
  },
  {
   "cell_type": "code",
   "execution_count": 23,
   "id": "e61ca931",
   "metadata": {},
   "outputs": [],
   "source": [
    "# complex Number. \"j\" is the only notation to use imaginary number. Anything else, will give an error. \n",
    "n = 45 + 5j"
   ]
  },
  {
   "cell_type": "code",
   "execution_count": 22,
   "id": "ca048cf9",
   "metadata": {},
   "outputs": [
    {
     "data": {
      "text/plain": [
       "complex"
      ]
     },
     "execution_count": 22,
     "metadata": {},
     "output_type": "execute_result"
    }
   ],
   "source": [
    "type(n)"
   ]
  },
  {
   "cell_type": "code",
   "execution_count": 24,
   "id": "1a5075db",
   "metadata": {},
   "outputs": [
    {
     "data": {
      "text/plain": [
       "(45+5j)"
      ]
     },
     "execution_count": 24,
     "metadata": {},
     "output_type": "execute_result"
    }
   ],
   "source": [
    "n"
   ]
  },
  {
   "cell_type": "code",
   "execution_count": 25,
   "id": "1c8bbd9e",
   "metadata": {},
   "outputs": [
    {
     "data": {
      "text/plain": [
       "45.0"
      ]
     },
     "execution_count": 25,
     "metadata": {},
     "output_type": "execute_result"
    }
   ],
   "source": [
    "n.real"
   ]
  },
  {
   "cell_type": "code",
   "execution_count": 26,
   "id": "cb3bfdcd",
   "metadata": {},
   "outputs": [
    {
     "data": {
      "text/plain": [
       "5.0"
      ]
     },
     "execution_count": 26,
     "metadata": {},
     "output_type": "execute_result"
    }
   ],
   "source": [
    "n.imag"
   ]
  },
  {
   "cell_type": "code",
   "execution_count": 29,
   "id": "d4ffaa5e",
   "metadata": {},
   "outputs": [
    {
     "data": {
      "text/plain": [
       "'1suraj'"
      ]
     },
     "execution_count": 29,
     "metadata": {},
     "output_type": "execute_result"
    }
   ],
   "source": [
    "str (\"1\" + \"suraj\")"
   ]
  },
  {
   "cell_type": "code",
   "execution_count": 30,
   "id": "85f5cb5b",
   "metadata": {},
   "outputs": [],
   "source": [
    "# string concatenation"
   ]
  },
  {
   "cell_type": "code",
   "execution_count": 31,
   "id": "9b0b3386",
   "metadata": {},
   "outputs": [
    {
     "data": {
      "text/plain": [
       "'suraj suraj suraj suraj '"
      ]
     },
     "execution_count": 31,
     "metadata": {},
     "output_type": "execute_result"
    }
   ],
   "source": [
    "\"suraj \" * 4"
   ]
  },
  {
   "cell_type": "code",
   "execution_count": 33,
   "id": "0f8fd072",
   "metadata": {},
   "outputs": [],
   "source": [
    "# \"suraj \" * \"suraj \"  - error will come"
   ]
  },
  {
   "cell_type": "code",
   "execution_count": 38,
   "id": "32b4189a",
   "metadata": {},
   "outputs": [
    {
     "name": "stdout",
     "output_type": "stream",
     "text": [
      "type a number for a 1\n",
      "type a number for b 2\n",
      "type a number for c 3\n",
      "1\n"
     ]
    },
    {
     "data": {
      "text/plain": [
       "'1 Suraj'"
      ]
     },
     "execution_count": 38,
     "metadata": {},
     "output_type": "execute_result"
    }
   ],
   "source": [
    "a = int(input(\"type a number for a \"))\n",
    "b = int(input(\"type a number for b \"))\n",
    "c = int(input(\"type a number for c \"))\n",
    "\n",
    "o = int ((a + b) / c)\n",
    "\n",
    "print(o)\n",
    "\n",
    "name = \" Suraj\"\n",
    "\n",
    "str(o) + name"
   ]
  },
  {
   "cell_type": "code",
   "execution_count": 40,
   "id": "f8f94df5",
   "metadata": {},
   "outputs": [
    {
     "name": "stdout",
     "output_type": "stream",
     "text": [
      "write a number below 35 - 45\n",
      "try again! \n"
     ]
    }
   ],
   "source": [
    "a = int(input(\"write a number below 35 - \"))\n",
    "if a < 35:\n",
    "    print(\"The number is correctly entered\")\n",
    "else: \n",
    "    print(\"try again! \")"
   ]
  },
  {
   "cell_type": "code",
   "execution_count": 1,
   "id": "e0a91049",
   "metadata": {},
   "outputs": [
    {
     "name": "stdout",
     "output_type": "stream",
     "text": [
      "enter your salary - 10000\n",
      "buy a car\n"
     ]
    }
   ],
   "source": [
    "salary = int(input(\"enter your salary - \"))\n",
    "if salary > 1000:\n",
    "    print(\"buy a car\")\n",
    "elif salary > 500:\n",
    "    print(\"go for bike\")\n",
    "elif salary > 100:\n",
    "    print(\"I will not do anything\")\n",
    "else:\n",
    "    print(\"go for saving\")"
   ]
  },
  {
   "cell_type": "code",
   "execution_count": 8,
   "id": "be45b9d9",
   "metadata": {},
   "outputs": [
    {
     "name": "stdout",
     "output_type": "stream",
     "text": [
      "Are you Working? 'Yes' or 'No' Yes\n",
      "What is your Salary? 100\n",
      "Look for a better job. \n"
     ]
    }
   ],
   "source": [
    "job = input(\"Are you Working? 'Yes' or 'No' \")\n",
    "if job == \"Yes\":\n",
    "    salary = int(input(\"What is your Salary? \"))\n",
    "    if salary > 50000:\n",
    "        print(\"You have a good Salary. Take a Home. \")\n",
    "    elif salary > 25000:\n",
    "        print(\"You have an average package. Take a bike.\")\n",
    "    elif salary > 15000:\n",
    "        print(\"Dont spend your money. \")\n",
    "    else:\n",
    "        print(\"Look for a better job. \")\n",
    "elif job == \"No\":\n",
    "    print(\"Do some courses and get hired. \")\n",
    "else:\n",
    "    print(\"Type 'Yes' or 'No' appropriately to the question. \")   "
   ]
  },
  {
   "cell_type": "code",
   "execution_count": 5,
   "id": "cb15ab1c",
   "metadata": {},
   "outputs": [
    {
     "name": "stdout",
     "output_type": "stream",
     "text": [
      "140734048643312\n",
      "140734048643632\n"
     ]
    }
   ],
   "source": [
    "a = 15\n",
    "b = 25\n",
    "\n",
    "print(id(a))\n",
    "print(id(b))"
   ]
  },
  {
   "cell_type": "code",
   "execution_count": 2,
   "id": "624288b8",
   "metadata": {},
   "outputs": [],
   "source": [
    "# id() - return the identity of an object."
   ]
  },
  {
   "cell_type": "code",
   "execution_count": 3,
   "id": "0e324aaf",
   "metadata": {},
   "outputs": [
    {
     "name": "stdout",
     "output_type": "stream",
     "text": [
      "Enter a number for a - 10\n",
      "Enter a number for b - 20\n",
      "This is a valid statement. \n"
     ]
    }
   ],
   "source": [
    "a = int(input(\"Enter a number for a - \"))\n",
    "b = int(input(\"Enter a number for b - \"))\n",
    "\n",
    "if a == 10 and b == 20:\n",
    "    print(\"This is a valid statement. \")\n",
    "else:\n",
    "    print(\"Enter a valid one. \")"
   ]
  },
  {
   "cell_type": "code",
   "execution_count": 4,
   "id": "1bfbb37e",
   "metadata": {},
   "outputs": [
    {
     "data": {
      "text/plain": [
       "False"
      ]
     },
     "execution_count": 4,
     "metadata": {},
     "output_type": "execute_result"
    }
   ],
   "source": [
    "a == 15"
   ]
  },
  {
   "cell_type": "code",
   "execution_count": 5,
   "id": "07e9b8f3",
   "metadata": {},
   "outputs": [
    {
     "data": {
      "text/plain": [
       "True"
      ]
     },
     "execution_count": 5,
     "metadata": {},
     "output_type": "execute_result"
    }
   ],
   "source": [
    "a == 10"
   ]
  },
  {
   "cell_type": "code",
   "execution_count": 8,
   "id": "12d8c548",
   "metadata": {},
   "outputs": [],
   "source": [
    "# task : \n",
    "\n",
    "# take input from your keyboard as a first name and last name and then try to validate of writing \n",
    "# multiple conditions by yourself."
   ]
  },
  {
   "cell_type": "code",
   "execution_count": 9,
   "id": "2c0e4bf1",
   "metadata": {},
   "outputs": [
    {
     "name": "stdout",
     "output_type": "stream",
     "text": [
      "Enter your first name - G S M\n",
      "Enter your last name - Suraj\n",
      "Correct Name\n"
     ]
    }
   ],
   "source": [
    "first_name = input(\"Enter your first name - \")\n",
    "last_name = input(\"Enter your last name - \")\n",
    "\n",
    "if first_name == \"G S M\" and last_name == \"Suraj\":\n",
    "    print(\"Correct Name\")\n",
    "else:\n",
    "    print(\"Wrong Name\")"
   ]
  },
  {
   "cell_type": "code",
   "execution_count": 11,
   "id": "94a51a33",
   "metadata": {},
   "outputs": [],
   "source": [
    "# while loop : \n",
    "\n",
    "# use a cmd \"break\" in order to stop the loop. "
   ]
  },
  {
   "cell_type": "code",
   "execution_count": 12,
   "id": "2070a4b8",
   "metadata": {},
   "outputs": [
    {
     "name": "stdout",
     "output_type": "stream",
     "text": [
      "speed\n",
      "speed\n",
      "speed\n",
      "speed\n",
      "speed\n"
     ]
    }
   ],
   "source": [
    "initial_speed = 0\n",
    "final_speed = 100\n",
    "count = 0\n",
    "while initial_speed <= final_speed:\n",
    "    print(\"speed\")\n",
    "    count = count + 1\n",
    "    if count == 5:\n",
    "        break    "
   ]
  },
  {
   "cell_type": "code",
   "execution_count": 13,
   "id": "d88a8bc9",
   "metadata": {},
   "outputs": [
    {
     "name": "stdout",
     "output_type": "stream",
     "text": [
      "i < j \n",
      "i < j \n",
      "i < j \n",
      "i < j \n"
     ]
    }
   ],
   "source": [
    "i = 1\n",
    "j = 5\n",
    "\n",
    "while i < j:\n",
    "    i = i + 1\n",
    "    print(\"i < j \")"
   ]
  },
  {
   "cell_type": "code",
   "execution_count": 18,
   "id": "f7a89eaf",
   "metadata": {},
   "outputs": [
    {
     "name": "stdout",
     "output_type": "stream",
     "text": [
      "G S M Suraj\n",
      "G S M Suraj\n",
      "G S M Suraj\n"
     ]
    }
   ],
   "source": [
    "first_name = \"G S M\"\n",
    "last_name = \" Suraj\"\n",
    "count = 0\n",
    "while first_name != last_name:\n",
    "    print(first_name +  last_name)\n",
    "    count = count + 1\n",
    "    if count == 3:\n",
    "        break"
   ]
  },
  {
   "cell_type": "code",
   "execution_count": 13,
   "id": "3a38f8e5",
   "metadata": {},
   "outputs": [
    {
     "data": {
      "text/plain": [
       "('m', 'n', 'a', 'i')"
      ]
     },
     "execution_count": 13,
     "metadata": {},
     "output_type": "execute_result"
    }
   ],
   "source": [
    "# string indexes\n",
    "\n",
    "name = \"my name is suraj\"\n",
    "\n",
    "name[5], name[3], name[4], name[8]"
   ]
  },
  {
   "cell_type": "code",
   "execution_count": 16,
   "id": "24aeb06e",
   "metadata": {},
   "outputs": [
    {
     "data": {
      "text/plain": [
       "'name is'"
      ]
     },
     "execution_count": 16,
     "metadata": {},
     "output_type": "execute_result"
    }
   ],
   "source": [
    "name[3:10]"
   ]
  },
  {
   "cell_type": "markdown",
   "id": "32780dd6",
   "metadata": {},
   "source": [
    "# in the below command '2' refers to step\n",
    "name[3:18:2]"
   ]
  },
  {
   "cell_type": "code",
   "execution_count": 22,
   "id": "4f31ffeb",
   "metadata": {},
   "outputs": [
    {
     "data": {
      "text/plain": [
       "' aei ua'"
      ]
     },
     "execution_count": 22,
     "metadata": {},
     "output_type": "execute_result"
    }
   ],
   "source": [
    "name[2:16:2]"
   ]
  },
  {
   "cell_type": "code",
   "execution_count": 23,
   "id": "10ade5c7",
   "metadata": {},
   "outputs": [
    {
     "data": {
      "text/plain": [
       "'jrss mn'"
      ]
     },
     "execution_count": 23,
     "metadata": {},
     "output_type": "execute_result"
    }
   ],
   "source": [
    "name[16:2:-2]"
   ]
  },
  {
   "cell_type": "code",
   "execution_count": 24,
   "id": "0c516ea8",
   "metadata": {},
   "outputs": [
    {
     "data": {
      "text/plain": [
       "'jarus si eman ym'"
      ]
     },
     "execution_count": 24,
     "metadata": {},
     "output_type": "execute_result"
    }
   ],
   "source": [
    "name[::-1]"
   ]
  },
  {
   "cell_type": "code",
   "execution_count": 25,
   "id": "c8ce5b7c",
   "metadata": {},
   "outputs": [
    {
     "data": {
      "text/plain": [
       "' '"
      ]
     },
     "execution_count": 25,
     "metadata": {},
     "output_type": "execute_result"
    }
   ],
   "source": [
    "name[-6]"
   ]
  },
  {
   "cell_type": "code",
   "execution_count": 26,
   "id": "437c381e",
   "metadata": {},
   "outputs": [
    {
     "data": {
      "text/plain": [
       "'y'"
      ]
     },
     "execution_count": 26,
     "metadata": {},
     "output_type": "execute_result"
    }
   ],
   "source": [
    "name[1]"
   ]
  },
  {
   "cell_type": "code",
   "execution_count": 27,
   "id": "ffc2bcd9",
   "metadata": {},
   "outputs": [
    {
     "data": {
      "text/plain": [
       "'j'"
      ]
     },
     "execution_count": 27,
     "metadata": {},
     "output_type": "execute_result"
    }
   ],
   "source": [
    "name[-1]"
   ]
  },
  {
   "cell_type": "code",
   "execution_count": 28,
   "id": "795b9fac",
   "metadata": {},
   "outputs": [
    {
     "data": {
      "text/plain": [
       "'a'"
      ]
     },
     "execution_count": 28,
     "metadata": {},
     "output_type": "execute_result"
    }
   ],
   "source": [
    "name[-2]"
   ]
  },
  {
   "cell_type": "code",
   "execution_count": 29,
   "id": "dc751b26",
   "metadata": {},
   "outputs": [
    {
     "data": {
      "text/plain": [
       "'s'"
      ]
     },
     "execution_count": 29,
     "metadata": {},
     "output_type": "execute_result"
    }
   ],
   "source": [
    "name = \"my name is suraj\"\n",
    "name[-5]"
   ]
  },
  {
   "cell_type": "code",
   "execution_count": 30,
   "id": "c92a6927",
   "metadata": {},
   "outputs": [
    {
     "data": {
      "text/plain": [
       "' name is '"
      ]
     },
     "execution_count": 30,
     "metadata": {},
     "output_type": "execute_result"
    }
   ],
   "source": [
    "name[2:-5]"
   ]
  },
  {
   "cell_type": "code",
   "execution_count": 31,
   "id": "318e5fa0",
   "metadata": {},
   "outputs": [
    {
     "data": {
      "text/plain": [
       "'name is su'"
      ]
     },
     "execution_count": 31,
     "metadata": {},
     "output_type": "execute_result"
    }
   ],
   "source": [
    "name[3:-3]"
   ]
  },
  {
   "cell_type": "code",
   "execution_count": 32,
   "id": "df31dd0a",
   "metadata": {},
   "outputs": [
    {
     "data": {
      "text/plain": [
       "'nm ss'"
      ]
     },
     "execution_count": 32,
     "metadata": {},
     "output_type": "execute_result"
    }
   ],
   "source": [
    "name[3:-3:2]"
   ]
  },
  {
   "cell_type": "code",
   "execution_count": 36,
   "id": "2aa4368b",
   "metadata": {},
   "outputs": [
    {
     "name": "stdout",
     "output_type": "stream",
     "text": [
      "21,22,23,24,22\n",
      "32,33,33,35,36\n"
     ]
    }
   ],
   "source": [
    "a = \"21,22,23,24,22\"\n",
    "b = \"32,33,33,35,36\"\n",
    "\n",
    "print(a)\n",
    "print(b)"
   ]
  },
  {
   "cell_type": "code",
   "execution_count": 37,
   "id": "e81b980b",
   "metadata": {},
   "outputs": [
    {
     "data": {
      "text/plain": [
       "','"
      ]
     },
     "execution_count": 37,
     "metadata": {},
     "output_type": "execute_result"
    }
   ],
   "source": [
    "a[-6]"
   ]
  },
  {
   "cell_type": "code",
   "execution_count": 38,
   "id": "270ceb3d",
   "metadata": {},
   "outputs": [
    {
     "data": {
      "text/plain": [
       "'2'"
      ]
     },
     "execution_count": 38,
     "metadata": {},
     "output_type": "execute_result"
    }
   ],
   "source": [
    "a[-14]"
   ]
  },
  {
   "cell_type": "code",
   "execution_count": 39,
   "id": "8ae62144",
   "metadata": {},
   "outputs": [
    {
     "data": {
      "text/plain": [
       "'2'"
      ]
     },
     "execution_count": 39,
     "metadata": {},
     "output_type": "execute_result"
    }
   ],
   "source": [
    "a[0]"
   ]
  },
  {
   "cell_type": "code",
   "execution_count": 40,
   "id": "b3a9db97",
   "metadata": {},
   "outputs": [
    {
     "data": {
      "text/plain": [
       "True"
      ]
     },
     "execution_count": 40,
     "metadata": {},
     "output_type": "execute_result"
    }
   ],
   "source": [
    "a[0] == a[-14]"
   ]
  },
  {
   "cell_type": "code",
   "execution_count": 48,
   "id": "f511745a",
   "metadata": {},
   "outputs": [
    {
     "name": "stdout",
     "output_type": "stream",
     "text": [
      "+  \r\n",
      "+  +  \r\n",
      "+  +  +  \r\n",
      "+  +  +  +  \r\n",
      "+  +  +  +  +  \r\n",
      "+  +  +  +  +  +  \r\n",
      "+  +  +  +  +  +  +  \r\n"
     ]
    }
   ],
   "source": [
    "x = 7\n",
    "for i in range(0, x):\n",
    "    for j in range(0, i+1):\n",
    "        print(\"+ \" , end = \" \")\n",
    "    print(\"\\r\")  \n"
   ]
  },
  {
   "cell_type": "code",
   "execution_count": null,
   "id": "6292a147",
   "metadata": {},
   "outputs": [],
   "source": []
  },
  {
   "cell_type": "code",
   "execution_count": 211,
   "id": "89606ef8",
   "metadata": {},
   "outputs": [
    {
     "name": "stdout",
     "output_type": "stream",
     "text": [
      "+       +\n",
      "\n",
      "\n",
      "+       +\n",
      "    +\n",
      "    +\n",
      "\n",
      "\n",
      "+       +\n",
      "    +\n",
      "    +\n",
      "    +\n",
      "    +\n",
      "\n",
      "\n",
      "+       +\n",
      "    +\n",
      "    +\n",
      "    +\n",
      "    +\n",
      "    +\n",
      "    +\n",
      "\n",
      "\n",
      "+       +\n",
      "    +\n",
      "    +\n",
      "    +\n",
      "    +\n",
      "    +\n",
      "    +\n",
      "    +\n",
      "    +\n",
      "\n",
      "\n"
     ]
    }
   ],
   "source": [
    "n = 5\n",
    "for i in range(0, n):\n",
    "    print(\"+ \", end = \"  \")\n",
    "    for j in range(2*i, -1, -1):\n",
    "        print(\" \", \"  +\")\n",
    "    print('\\n')"
   ]
  },
  {
   "cell_type": "code",
   "execution_count": null,
   "id": "ff60ef66",
   "metadata": {},
   "outputs": [],
   "source": [
    "list = [23, 21, 34, 35]\n",
    "total = 0\n",
    "\n",
    "for numbers in list:\n",
    "    total += numbers\n",
    "print(total)\n",
    "      "
   ]
  },
  {
   "cell_type": "code",
   "execution_count": 1,
   "id": "dfed5823",
   "metadata": {},
   "outputs": [
    {
     "name": "stdout",
     "output_type": "stream",
     "text": [
      "test\n"
     ]
    }
   ],
   "source": [
    "print(\"test\")"
   ]
  },
  {
   "cell_type": "code",
   "execution_count": 5,
   "id": "b8c7d8f8",
   "metadata": {},
   "outputs": [
    {
     "name": "stdout",
     "output_type": "stream",
     "text": [
      "1\n",
      "2\n",
      "3\n",
      "4\n",
      "5\n"
     ]
    }
   ],
   "source": [
    "notes = 5\n",
    "i = 1\n",
    "while i < notes:\n",
    "    print(i)\n",
    "    i += 1\n",
    "else: \n",
    "    while i >= notes:\n",
    "        print(i)\n",
    "        break"
   ]
  },
  {
   "cell_type": "code",
   "execution_count": 6,
   "id": "200668c3",
   "metadata": {},
   "outputs": [],
   "source": [
    "# Data Sets - List , Set , Tuples , Dictionary, String"
   ]
  },
  {
   "cell_type": "code",
   "execution_count": 7,
   "id": "e9ba8121",
   "metadata": {},
   "outputs": [],
   "source": [
    "s = \"Suraj\"\n",
    "# s is the variable here\n"
   ]
  },
  {
   "cell_type": "code",
   "execution_count": 8,
   "id": "abbc9c2e",
   "metadata": {},
   "outputs": [
    {
     "data": {
      "text/plain": [
       "'S'"
      ]
     },
     "execution_count": 8,
     "metadata": {},
     "output_type": "execute_result"
    }
   ],
   "source": [
    "s[0]"
   ]
  },
  {
   "cell_type": "code",
   "execution_count": 13,
   "id": "bd40f475",
   "metadata": {},
   "outputs": [
    {
     "name": "stdout",
     "output_type": "stream",
     "text": [
      "('S', 'u', 'r', 'a', 'j')\n"
     ]
    }
   ],
   "source": [
    "name = (s[0], s[1], s[2], s[3], s[4])\n",
    "print(name)"
   ]
  },
  {
   "cell_type": "code",
   "execution_count": 17,
   "id": "ac32c30c",
   "metadata": {},
   "outputs": [
    {
     "name": "stdout",
     "output_type": "stream",
     "text": [
      "('j', 'a', 'r', 'u', 'S')\n"
     ]
    }
   ],
   "source": [
    "reverse_name = (s[-1], s[-2], s[-3], s[-4], s[-5])\n",
    "print(reverse_name)"
   ]
  },
  {
   "cell_type": "code",
   "execution_count": 20,
   "id": "0773a30d",
   "metadata": {},
   "outputs": [
    {
     "name": "stdout",
     "output_type": "stream",
     "text": [
      "5\n"
     ]
    }
   ],
   "source": [
    "name_len = len(\"Suraj\")\n",
    "print(name_len)"
   ]
  },
  {
   "cell_type": "code",
   "execution_count": 21,
   "id": "06733501",
   "metadata": {},
   "outputs": [
    {
     "data": {
      "text/plain": [
       "'j'"
      ]
     },
     "execution_count": 21,
     "metadata": {},
     "output_type": "execute_result"
    }
   ],
   "source": [
    "s[-1]"
   ]
  },
  {
   "cell_type": "code",
   "execution_count": 22,
   "id": "6a245c3f",
   "metadata": {},
   "outputs": [
    {
     "data": {
      "text/plain": [
       "' name '"
      ]
     },
     "execution_count": 22,
     "metadata": {},
     "output_type": "execute_result"
    }
   ],
   "source": [
    "s1 = \"My name is Suraj\"\n",
    "s1[2:8]\n",
    "# in this cmd , it will exclude the 8th index. "
   ]
  },
  {
   "cell_type": "code",
   "execution_count": 24,
   "id": "1714f5df",
   "metadata": {},
   "outputs": [
    {
     "data": {
      "text/plain": [
       "'name i'"
      ]
     },
     "execution_count": 24,
     "metadata": {},
     "output_type": "execute_result"
    }
   ],
   "source": [
    "s1[3:9]\n",
    "# in this cmd , it will exclude the 9th index."
   ]
  },
  {
   "cell_type": "code",
   "execution_count": 25,
   "id": "4b1a1b6a",
   "metadata": {},
   "outputs": [
    {
     "data": {
      "text/plain": [
       "'y name is'"
      ]
     },
     "execution_count": 25,
     "metadata": {},
     "output_type": "execute_result"
    }
   ],
   "source": [
    "s1[1:10:1]\n",
    "# here \"1\" represents the jump size / step size. "
   ]
  },
  {
   "cell_type": "code",
   "execution_count": 27,
   "id": "ba38dc2f",
   "metadata": {},
   "outputs": [
    {
     "data": {
      "text/plain": [
       "'ynm s'"
      ]
     },
     "execution_count": 27,
     "metadata": {},
     "output_type": "execute_result"
    }
   ],
   "source": [
    "s1 = \"My name is Suraj\"\n",
    "s1[1:10:2]\n",
    "# here \"2\" represents the jump size / step size. "
   ]
  },
  {
   "cell_type": "code",
   "execution_count": 43,
   "id": "472a76ac",
   "metadata": {},
   "outputs": [
    {
     "data": {
      "text/plain": [
       "16"
      ]
     },
     "execution_count": 43,
     "metadata": {},
     "output_type": "execute_result"
    }
   ],
   "source": [
    "len(s1)"
   ]
  },
  {
   "cell_type": "code",
   "execution_count": 44,
   "id": "57a45ef7",
   "metadata": {},
   "outputs": [
    {
     "data": {
      "text/plain": [
       "'jaruS si eman y'"
      ]
     },
     "execution_count": 44,
     "metadata": {},
     "output_type": "execute_result"
    }
   ],
   "source": [
    "s1[16:0:-1]\n",
    "\n",
    "# to display the characters in reverse order. "
   ]
  },
  {
   "cell_type": "code",
   "execution_count": 45,
   "id": "22438776",
   "metadata": {},
   "outputs": [
    {
     "data": {
      "text/plain": [
       "'jrSs mny'"
      ]
     },
     "execution_count": 45,
     "metadata": {},
     "output_type": "execute_result"
    }
   ],
   "source": [
    "s1[16:0:-2]"
   ]
  },
  {
   "cell_type": "code",
   "execution_count": 46,
   "id": "e8e76af8",
   "metadata": {},
   "outputs": [
    {
     "data": {
      "text/plain": [
       "'jaruS si eman yM'"
      ]
     },
     "execution_count": 46,
     "metadata": {},
     "output_type": "execute_result"
    }
   ],
   "source": [
    "s1[::-1]"
   ]
  },
  {
   "cell_type": "code",
   "execution_count": 47,
   "id": "cfccb5cc",
   "metadata": {},
   "outputs": [
    {
     "data": {
      "text/plain": [
       "' name is'"
      ]
     },
     "execution_count": 47,
     "metadata": {},
     "output_type": "execute_result"
    }
   ],
   "source": [
    "s1[2:-6]"
   ]
  },
  {
   "cell_type": "code",
   "execution_count": 50,
   "id": "d66a8cd4",
   "metadata": {},
   "outputs": [
    {
     "data": {
      "text/plain": [
       "'s'"
      ]
     },
     "execution_count": 50,
     "metadata": {},
     "output_type": "execute_result"
    }
   ],
   "source": [
    "s1[-7]"
   ]
  },
  {
   "cell_type": "code",
   "execution_count": 54,
   "id": "b4d9177c",
   "metadata": {},
   "outputs": [
    {
     "data": {
      "text/plain": [
       "True"
      ]
     },
     "execution_count": 54,
     "metadata": {},
     "output_type": "execute_result"
    }
   ],
   "source": [
    "s1[15] == s1[-1]"
   ]
  },
  {
   "cell_type": "code",
   "execution_count": 55,
   "id": "f750adb7",
   "metadata": {},
   "outputs": [
    {
     "data": {
      "text/plain": [
       "'Suraj'"
      ]
     },
     "execution_count": 55,
     "metadata": {},
     "output_type": "execute_result"
    }
   ],
   "source": [
    "s"
   ]
  },
  {
   "cell_type": "code",
   "execution_count": 56,
   "id": "791e48ba",
   "metadata": {},
   "outputs": [
    {
     "data": {
      "text/plain": [
       "'S'"
      ]
     },
     "execution_count": 56,
     "metadata": {},
     "output_type": "execute_result"
    }
   ],
   "source": [
    "s[0]"
   ]
  },
  {
   "cell_type": "code",
   "execution_count": 69,
   "id": "5a60f978",
   "metadata": {},
   "outputs": [
    {
     "name": "stdout",
     "output_type": "stream",
     "text": [
      "M\n",
      "y\n",
      " \n",
      "n\n",
      "a\n",
      "m\n",
      "e\n",
      " \n",
      "i\n",
      "s\n",
      " \n",
      "S\n",
      "u\n",
      "Character 'U'\n",
      "r\n",
      "a\n",
      "j\n",
      "\n",
      " This is an else condition.\n"
     ]
    }
   ],
   "source": [
    "for i in s1:\n",
    "    print(i)\n",
    "    if i == \"u\":\n",
    "        print(\"Character 'U'\")\n",
    "else:\n",
    "    print(\"\\n This is an else condition.\")\n",
    "    \n",
    "# i = local variable"
   ]
  },
  {
   "cell_type": "code",
   "execution_count": 70,
   "id": "14c06487",
   "metadata": {},
   "outputs": [
    {
     "name": "stdout",
     "output_type": "stream",
     "text": [
      "M\n",
      "y\n",
      " \n",
      "n\n",
      "a\n",
      "m\n",
      "e\n",
      " \n",
      "i\n",
      "s\n",
      " \n",
      "S\n",
      "u\n",
      "Character 'U'\n",
      "r\n"
     ]
    }
   ],
   "source": [
    "for i in s1:\n",
    "    print(i)\n",
    "    if i == \"u\":\n",
    "        print(\"Character 'U'\")\n",
    "    if i == \"r\":\n",
    "        break\n",
    "else:\n",
    "    print(\"\\n This is an else condition.\")"
   ]
  },
  {
   "cell_type": "code",
   "execution_count": 73,
   "id": "b4223d52",
   "metadata": {},
   "outputs": [
    {
     "name": "stdout",
     "output_type": "stream",
     "text": [
      "M\n",
      "y\n",
      " \n",
      "n\n",
      "a\n",
      "m\n",
      "e\n",
      " \n",
      "i\n",
      "s\n",
      " \n",
      "S\n",
      "u\n",
      "Character 'U'\n",
      "r\n",
      "a\n",
      "j\n",
      "This is an else condition.\n"
     ]
    }
   ],
   "source": [
    "for i in s1:\n",
    "    print(i)\n",
    "    if i == \"s\":\n",
    "        continue\n",
    "    if i == \"u\":\n",
    "        print(\"Character 'U'\")\n",
    "    \n",
    "else:\n",
    "    print(\"This is an else condition.\")"
   ]
  },
  {
   "cell_type": "code",
   "execution_count": 75,
   "id": "5381c385",
   "metadata": {},
   "outputs": [
    {
     "name": "stdout",
     "output_type": "stream",
     "text": [
      "test\n"
     ]
    }
   ],
   "source": [
    "print(\"test\")"
   ]
  },
  {
   "cell_type": "code",
   "execution_count": 76,
   "id": "d8bcb13b",
   "metadata": {},
   "outputs": [
    {
     "name": "stdout",
     "output_type": "stream",
     "text": [
      "test\n"
     ]
    }
   ],
   "source": [
    "print(\"test\")"
   ]
  },
  {
   "cell_type": "code",
   "execution_count": 81,
   "id": "09ec28bc",
   "metadata": {},
   "outputs": [
    {
     "name": "stdout",
     "output_type": "stream",
     "text": [
      " ieuro\n"
     ]
    }
   ],
   "source": [
    "s = \"ineuron\"\n",
    "ss = \" \"\n",
    "for i in range(len(s)):\n",
    "    if s[i] == \"n\":\n",
    "        continue\n",
    "    else:\n",
    "        ss = ss + s[i]\n",
    "print(ss)"
   ]
  },
  {
   "cell_type": "code",
   "execution_count": 118,
   "id": "838923a6",
   "metadata": {},
   "outputs": [],
   "source": [
    "l1 = [\"Manas\", 23456 , \"ghfybs\"]"
   ]
  },
  {
   "cell_type": "code",
   "execution_count": 124,
   "id": "1958aa9e",
   "metadata": {},
   "outputs": [
    {
     "data": {
      "text/plain": [
       "list"
      ]
     },
     "execution_count": 124,
     "metadata": {},
     "output_type": "execute_result"
    }
   ],
   "source": [
    "type(l1)\n"
   ]
  },
  {
   "cell_type": "code",
   "execution_count": 120,
   "id": "ed650748",
   "metadata": {},
   "outputs": [
    {
     "data": {
      "text/plain": [
       "list"
      ]
     },
     "execution_count": 120,
     "metadata": {},
     "output_type": "execute_result"
    }
   ],
   "source": [
    "l1 = []\n",
    "type(l1)"
   ]
  },
  {
   "cell_type": "code",
   "execution_count": 125,
   "id": "a86887ad",
   "metadata": {},
   "outputs": [
    {
     "data": {
      "text/plain": [
       "list"
      ]
     },
     "execution_count": 125,
     "metadata": {},
     "output_type": "execute_result"
    }
   ],
   "source": [
    "L = [\"Manas\", \"Suraj\", [2,3,4,5,\"fers\"], \"fgr\"]\n",
    "type(L)"
   ]
  },
  {
   "cell_type": "code",
   "execution_count": 126,
   "id": "b6874fed",
   "metadata": {},
   "outputs": [
    {
     "data": {
      "text/plain": [
       "'Suraj'"
      ]
     },
     "execution_count": 126,
     "metadata": {},
     "output_type": "execute_result"
    }
   ],
   "source": [
    "L[1]"
   ]
  },
  {
   "cell_type": "code",
   "execution_count": 127,
   "id": "664654e3",
   "metadata": {},
   "outputs": [
    {
     "data": {
      "text/plain": [
       "'Manas'"
      ]
     },
     "execution_count": 127,
     "metadata": {},
     "output_type": "execute_result"
    }
   ],
   "source": [
    "L[0]"
   ]
  },
  {
   "cell_type": "code",
   "execution_count": 128,
   "id": "64f532dc",
   "metadata": {},
   "outputs": [
    {
     "data": {
      "text/plain": [
       "'a'"
      ]
     },
     "execution_count": 128,
     "metadata": {},
     "output_type": "execute_result"
    }
   ],
   "source": [
    "L[0][1]"
   ]
  },
  {
   "cell_type": "code",
   "execution_count": 129,
   "id": "a20b9a5a",
   "metadata": {},
   "outputs": [
    {
     "data": {
      "text/plain": [
       "['Manas', 'Suraj', [2, 3, 4, 5, 'fers'], 'fgr']"
      ]
     },
     "execution_count": 129,
     "metadata": {},
     "output_type": "execute_result"
    }
   ],
   "source": [
    "L[0:5]"
   ]
  },
  {
   "cell_type": "code",
   "execution_count": 136,
   "id": "bbc1f069",
   "metadata": {},
   "outputs": [
    {
     "name": "stdout",
     "output_type": "stream",
     "text": [
      "0\n",
      "0\n",
      "0\n",
      "0\n"
     ]
    }
   ],
   "source": [
    "n = 0\n",
    "\n",
    "for i in L:\n",
    "    if type(i) == int:\n",
    "        n += i\n",
    "    print(n)"
   ]
  },
  {
   "cell_type": "code",
   "execution_count": 139,
   "id": "8da63301",
   "metadata": {},
   "outputs": [
    {
     "name": "stdout",
     "output_type": "stream",
     "text": [
      "4\n",
      "5\n",
      "6\n",
      "7\n",
      "8\n"
     ]
    }
   ],
   "source": [
    "for i in range(4, 9):\n",
    "    print(i)"
   ]
  },
  {
   "cell_type": "code",
   "execution_count": 140,
   "id": "c5611904",
   "metadata": {},
   "outputs": [
    {
     "data": {
      "text/plain": [
       "4"
      ]
     },
     "execution_count": 140,
     "metadata": {},
     "output_type": "execute_result"
    }
   ],
   "source": [
    "len(L)"
   ]
  },
  {
   "cell_type": "code",
   "execution_count": 143,
   "id": "2c793e3a",
   "metadata": {},
   "outputs": [
    {
     "name": "stdout",
     "output_type": "stream",
     "text": [
      "sxsxsx sxsxsx sxsxsx sxsxsx sxsxsx sxsxsx sxsxsx sxsxsx sxsxsx sxsxsx sxsxsx sxsxsx sxsxsx sxsxsx sxsxsx sxsxsx "
     ]
    }
   ],
   "source": [
    "for i in L:\n",
    "    for j in range(len(L)):\n",
    "        print(\"sxsxsx\", end = \" \")"
   ]
  },
  {
   "cell_type": "code",
   "execution_count": 145,
   "id": "f2dfebd5",
   "metadata": {},
   "outputs": [
    {
     "name": "stdout",
     "output_type": "stream",
     "text": [
      "0\n",
      "1\n",
      "3\n",
      "6\n",
      "10\n",
      "Hello\n"
     ]
    }
   ],
   "source": [
    "n = (0, 1, 2, 3, 4)\n",
    "j = 0\n",
    "for i in n:\n",
    "    j += i\n",
    "    print(j)\n",
    "else:\n",
    "    print(\"Hello\")"
   ]
  },
  {
   "cell_type": "code",
   "execution_count": 146,
   "id": "4b0cb7fa",
   "metadata": {},
   "outputs": [
    {
     "data": {
      "text/plain": [
       "list"
      ]
     },
     "execution_count": 146,
     "metadata": {},
     "output_type": "execute_result"
    }
   ],
   "source": [
    "fruits = [\"Apple\" , \"Banana\", \"Mango\", \"Grapes\"]\n",
    "type(fruits)"
   ]
  },
  {
   "cell_type": "code",
   "execution_count": 152,
   "id": "0eec590d",
   "metadata": {},
   "outputs": [
    {
     "name": "stdout",
     "output_type": "stream",
     "text": [
      " Apple   AppleBanana   AppleBananaMango   AppleBananaMangoGrapes  "
     ]
    }
   ],
   "source": [
    "for fruit in fruits:\n",
    "    "
   ]
  },
  {
   "cell_type": "code",
   "execution_count": 6,
   "id": "74db4d87",
   "metadata": {},
   "outputs": [
    {
     "name": "stdout",
     "output_type": "stream",
     "text": [
      "'aj\n"
     ]
    }
   ],
   "source": [
    "print(\"Sur'\\r'aj\")"
   ]
  },
  {
   "cell_type": "code",
   "execution_count": 9,
   "id": "6080b1be",
   "metadata": {},
   "outputs": [
    {
     "data": {
      "text/plain": [
       "'nhy '"
      ]
     },
     "execution_count": 9,
     "metadata": {},
     "output_type": "execute_result"
    }
   ],
   "source": [
    "str2 = \"master python\"\n",
    "str2[-1:4:-2]"
   ]
  },
  {
   "cell_type": "code",
   "execution_count": 17,
   "id": "59c43d8a",
   "metadata": {},
   "outputs": [
    {
     "name": "stdout",
     "output_type": "stream",
     "text": [
      "                *   *   *   *   *   *     \n",
      "                  *   *   *   *   *     \n",
      "                    *   *   *   *     \n",
      "                      *   *   *     \n",
      "                        *   *     \n",
      "                          *     \n"
     ]
    }
   ],
   "source": [
    "num = 5\n",
    "m = 2 * num -2\n",
    "for i in range(num, -1, -1):\n",
    "    for j in range(m, 0, -1):\n",
    "        print(end = \"  \")\n",
    "    m = m+1\n",
    "    for j in range(0, i+1):\n",
    "        print(\"* \", end = \"  \")\n",
    "    print(\"  \")"
   ]
  },
  {
   "cell_type": "code",
   "execution_count": null,
   "id": "05e0b144",
   "metadata": {},
   "outputs": [],
   "source": []
  },
  {
   "cell_type": "code",
   "execution_count": 37,
   "id": "770f3bf6",
   "metadata": {},
   "outputs": [
    {
     "name": "stdout",
     "output_type": "stream",
     "text": [
      "                                                                                                "
     ]
    }
   ],
   "source": [
    "n = 5\n",
    "m = 8\n",
    "for i in range(n, -1, -1):\n",
    "    for j in range(m, 0, -1):\n",
    "        print(end = \"  \")"
   ]
  },
  {
   "cell_type": "code",
   "execution_count": 77,
   "id": "fce08948",
   "metadata": {},
   "outputs": [
    {
     "name": "stdout",
     "output_type": "stream",
     "text": [
      "                  X   X   X   X   X   X   \n",
      "                    X   X   X   X   X   \n",
      "                      X   X   X   X   \n",
      "                        X   X   X   \n",
      "                          X   X   \n",
      "                            X   \n"
     ]
    }
   ],
   "source": [
    "num = 5\n",
    "m = 2 * num -2\n",
    "for i in range(num, -1, -1):\n",
    "    for j in range(m, 0, -1):\n",
    "        print(end = \"  \")\n",
    "    m +=1\n",
    "    for j in range(0, i+1):\n",
    "        print(\" \", end = \" X \")\n",
    "    print(\"  \")"
   ]
  },
  {
   "cell_type": "code",
   "execution_count": 69,
   "id": "ee7976c9",
   "metadata": {},
   "outputs": [
    {
     "name": "stdout",
     "output_type": "stream",
     "text": [
      " +  +  +  +  +  +  +  +  > \n",
      " +  +  +  +  +  +  +  +  > \n",
      " +  +  +  +  +  +  +  +  > \n",
      " +  +  +  +  +  +  +  +  > \n",
      " +  +  +  +  +  +  +  +  > \n",
      " +  +  +  +  +  +  +  +  > \n"
     ]
    }
   ],
   "source": [
    "num = 5\n",
    "m = 8\n",
    "for i in range(num, -1, -1):\n",
    "    for j in range(m, 0, -1):\n",
    "        print(end = \" + \")\n",
    "    print(\" > \")"
   ]
  },
  {
   "cell_type": "code",
   "execution_count": 87,
   "id": "95da4cc6",
   "metadata": {},
   "outputs": [
    {
     "name": "stdout",
     "output_type": "stream",
     "text": [
      "this is full stack class"
     ]
    }
   ],
   "source": [
    "# Recorded Session - Working with Strings and Lists\n",
    "s = \"this is full stack class\"\n",
    "for i in s:\n",
    "    print(i, end = '')"
   ]
  },
  {
   "cell_type": "code",
   "execution_count": 89,
   "id": "63e525b9",
   "metadata": {},
   "outputs": [
    {
     "data": {
      "text/plain": [
       "list"
      ]
     },
     "execution_count": 89,
     "metadata": {},
     "output_type": "execute_result"
    }
   ],
   "source": [
    "l = ['abcd', 'der', 1234 , 'ghft', True]\n",
    "type(l)"
   ]
  },
  {
   "cell_type": "code",
   "execution_count": 94,
   "id": "dec24427",
   "metadata": {},
   "outputs": [
    {
     "data": {
      "text/plain": [
       "['suraj', 'der', 1234, 'ghft', True]"
      ]
     },
     "execution_count": 94,
     "metadata": {},
     "output_type": "execute_result"
    }
   ],
   "source": [
    "l[0] = 'suraj'\n",
    "l"
   ]
  },
  {
   "cell_type": "code",
   "execution_count": 95,
   "id": "57767896",
   "metadata": {},
   "outputs": [],
   "source": [
    "# String mutability(manipulation) is not allowed however the same for list is allowed.\n",
    "\n",
    "# This is will be an error for string manipulation - TypeError: 'str' object does not support item assignment"
   ]
  },
  {
   "cell_type": "code",
   "execution_count": 98,
   "id": "720b2d55",
   "metadata": {},
   "outputs": [
    {
     "ename": "TypeError",
     "evalue": "'str' object does not support item assignment",
     "output_type": "error",
     "traceback": [
      "\u001b[1;31m---------------------------------------------------------------------------\u001b[0m",
      "\u001b[1;31mTypeError\u001b[0m                                 Traceback (most recent call last)",
      "\u001b[1;32m<ipython-input-98-c18c8b5518ce>\u001b[0m in \u001b[0;36m<module>\u001b[1;34m\u001b[0m\n\u001b[1;32m----> 1\u001b[1;33m \u001b[0ms\u001b[0m\u001b[1;33m[\u001b[0m\u001b[1;36m1\u001b[0m\u001b[1;33m]\u001b[0m \u001b[1;33m=\u001b[0m \u001b[1;34m'T'\u001b[0m\u001b[1;33m\u001b[0m\u001b[1;33m\u001b[0m\u001b[0m\n\u001b[0m",
      "\u001b[1;31mTypeError\u001b[0m: 'str' object does not support item assignment"
     ]
    }
   ],
   "source": [
    "s[1] = 'T'"
   ]
  },
  {
   "cell_type": "code",
   "execution_count": 100,
   "id": "122dc64a",
   "metadata": {},
   "outputs": [
    {
     "ename": "TypeError",
     "evalue": "can only concatenate str (not \"int\") to str",
     "output_type": "error",
     "traceback": [
      "\u001b[1;31m---------------------------------------------------------------------------\u001b[0m",
      "\u001b[1;31mTypeError\u001b[0m                                 Traceback (most recent call last)",
      "\u001b[1;32m<ipython-input-100-9a687fa1a0ac>\u001b[0m in \u001b[0;36m<module>\u001b[1;34m\u001b[0m\n\u001b[1;32m----> 1\u001b[1;33m \u001b[1;34m\"suraj\"\u001b[0m \u001b[1;33m+\u001b[0m \u001b[1;34m\"manas\"\u001b[0m \u001b[1;33m+\u001b[0m \u001b[1;36m1234\u001b[0m\u001b[1;33m\u001b[0m\u001b[1;33m\u001b[0m\u001b[0m\n\u001b[0m",
      "\u001b[1;31mTypeError\u001b[0m: can only concatenate str (not \"int\") to str"
     ]
    }
   ],
   "source": [
    "\"suraj\" + \"manas\" + 1234"
   ]
  },
  {
   "cell_type": "code",
   "execution_count": 102,
   "id": "ba182b70",
   "metadata": {},
   "outputs": [
    {
     "data": {
      "text/plain": [
       "'Girija Shankar Maharaj Suraj'"
      ]
     },
     "execution_count": 102,
     "metadata": {},
     "output_type": "execute_result"
    }
   ],
   "source": [
    "s = \"Girija Shankar Maharaj Suraj\"\n",
    "s"
   ]
  },
  {
   "cell_type": "code",
   "execution_count": 105,
   "id": "973678a8",
   "metadata": {},
   "outputs": [
    {
     "data": {
      "text/plain": [
       "'Suraj Shankar Maharaj Suraj'"
      ]
     },
     "execution_count": 105,
     "metadata": {},
     "output_type": "execute_result"
    }
   ],
   "source": [
    "s.replace(\"Girija\", \"Suraj\")"
   ]
  },
  {
   "cell_type": "code",
   "execution_count": 108,
   "id": "5900293e",
   "metadata": {},
   "outputs": [
    {
     "ename": "TypeError",
     "evalue": "'str' object does not support item assignment",
     "output_type": "error",
     "traceback": [
      "\u001b[1;31m---------------------------------------------------------------------------\u001b[0m",
      "\u001b[1;31mTypeError\u001b[0m                                 Traceback (most recent call last)",
      "\u001b[1;32m<ipython-input-108-e0af75822681>\u001b[0m in \u001b[0;36m<module>\u001b[1;34m\u001b[0m\n\u001b[1;32m----> 1\u001b[1;33m \u001b[0ms\u001b[0m\u001b[1;33m[\u001b[0m\u001b[1;36m1\u001b[0m\u001b[1;33m]\u001b[0m \u001b[1;33m=\u001b[0m \u001b[1;34m\"Suraj\"\u001b[0m\u001b[1;33m\u001b[0m\u001b[1;33m\u001b[0m\u001b[0m\n\u001b[0m",
      "\u001b[1;31mTypeError\u001b[0m: 'str' object does not support item assignment"
     ]
    }
   ],
   "source": [
    "s[1] = \"Suraj\""
   ]
  },
  {
   "cell_type": "code",
   "execution_count": 121,
   "id": "0edb277c",
   "metadata": {},
   "outputs": [
    {
     "data": {
      "text/plain": [
       "'GIRIJA GIRIJA SHANKAR SHANKAR MAHARAJ MAHARAJ SURAJ MANAS'"
      ]
     },
     "execution_count": 121,
     "metadata": {},
     "output_type": "execute_result"
    }
   ],
   "source": [
    "s.upper()"
   ]
  },
  {
   "cell_type": "code",
   "execution_count": 122,
   "id": "7d244fa8",
   "metadata": {},
   "outputs": [
    {
     "data": {
      "text/plain": [
       "1"
      ]
     },
     "execution_count": 122,
     "metadata": {},
     "output_type": "execute_result"
    }
   ],
   "source": [
    "s = \"Girija Girija Shankar Shankar Maharaj Maharaj Suraj Manas\"\n",
    "s.count(\"Manas\")"
   ]
  },
  {
   "cell_type": "code",
   "execution_count": 3,
   "id": "297e9048",
   "metadata": {},
   "outputs": [
    {
     "data": {
      "text/plain": [
       "'Suraj\\tMaharaj'"
      ]
     },
     "execution_count": 3,
     "metadata": {},
     "output_type": "execute_result"
    }
   ],
   "source": [
    "s = 'Suraj\\tMaharaj'\n",
    "s"
   ]
  },
  {
   "cell_type": "code",
   "execution_count": 4,
   "id": "b09138ef",
   "metadata": {},
   "outputs": [
    {
     "data": {
      "text/plain": [
       "'Suraj   Maharaj'"
      ]
     },
     "execution_count": 4,
     "metadata": {},
     "output_type": "execute_result"
    }
   ],
   "source": [
    "s.expandtabs()"
   ]
  },
  {
   "cell_type": "code",
   "execution_count": 9,
   "id": "c438fb95",
   "metadata": {},
   "outputs": [],
   "source": [
    "s ='We all are a part of Full Stack'"
   ]
  },
  {
   "cell_type": "code",
   "execution_count": 26,
   "id": "a322245b",
   "metadata": {},
   "outputs": [
    {
     "data": {
      "text/plain": [
       "'we all are a part of full stack'"
      ]
     },
     "execution_count": 26,
     "metadata": {},
     "output_type": "execute_result"
    }
   ],
   "source": [
    "a= s.lower()\n",
    "a"
   ]
  },
  {
   "cell_type": "code",
   "execution_count": 27,
   "id": "1c4c6396",
   "metadata": {},
   "outputs": [
    {
     "data": {
      "text/plain": [
       "5"
      ]
     },
     "execution_count": 27,
     "metadata": {},
     "output_type": "execute_result"
    }
   ],
   "source": [
    "b = s.count('a')\n",
    "b"
   ]
  },
  {
   "cell_type": "code",
   "execution_count": 25,
   "id": "220c913d",
   "metadata": {},
   "outputs": [
    {
     "name": "stdout",
     "output_type": "stream",
     "text": [
      "3\n",
      "7\n",
      "11\n",
      "14\n",
      "28\n"
     ]
    }
   ],
   "source": [
    "for i in range(len(s)):\n",
    "    if(s[i]==\"a\"):\n",
    "        print(i)"
   ]
  },
  {
   "cell_type": "code",
   "execution_count": 28,
   "id": "4a275671",
   "metadata": {},
   "outputs": [
    {
     "data": {
      "text/plain": [
       "'We iNeuronll iNeuronre iNeuron piNeuronrt of Full StiNeuronck'"
      ]
     },
     "execution_count": 28,
     "metadata": {},
     "output_type": "execute_result"
    }
   ],
   "source": [
    "d = s.replace('a', 'iNeuron')\n",
    "d"
   ]
  },
  {
   "cell_type": "code",
   "execution_count": 40,
   "id": "142ba8fb",
   "metadata": {},
   "outputs": [
    {
     "data": {
      "text/plain": [
       "['We', 'all', 'are', 'a', 'part', 'of', 'Full', 'Stack']"
      ]
     },
     "execution_count": 40,
     "metadata": {},
     "output_type": "execute_result"
    }
   ],
   "source": [
    "e = s.split()\n",
    "e"
   ]
  },
  {
   "cell_type": "code",
   "execution_count": 86,
   "id": "22eb11cb",
   "metadata": {},
   "outputs": [
    {
     "data": {
      "text/plain": [
       "'Manas'"
      ]
     },
     "execution_count": 86,
     "metadata": {},
     "output_type": "execute_result"
    }
   ],
   "source": [
    "s = \"Manas\"\n",
    "s"
   ]
  },
  {
   "cell_type": "code",
   "execution_count": 63,
   "id": "f54f062d",
   "metadata": {},
   "outputs": [
    {
     "data": {
      "text/plain": [
       "False"
      ]
     },
     "execution_count": 63,
     "metadata": {},
     "output_type": "execute_result"
    }
   ],
   "source": [
    "s.isupper()"
   ]
  },
  {
   "cell_type": "code",
   "execution_count": 62,
   "id": "f4d5f4a8",
   "metadata": {},
   "outputs": [
    {
     "data": {
      "text/plain": [
       "False"
      ]
     },
     "execution_count": 62,
     "metadata": {},
     "output_type": "execute_result"
    }
   ],
   "source": [
    "s.islower()"
   ]
  },
  {
   "cell_type": "code",
   "execution_count": 61,
   "id": "f6c6e750",
   "metadata": {},
   "outputs": [
    {
     "data": {
      "text/plain": [
       "True"
      ]
     },
     "execution_count": 61,
     "metadata": {},
     "output_type": "execute_result"
    }
   ],
   "source": [
    "s.isspace()"
   ]
  },
  {
   "cell_type": "code",
   "execution_count": 67,
   "id": "a5c38bf3",
   "metadata": {},
   "outputs": [
    {
     "data": {
      "text/plain": [
       "True"
      ]
     },
     "execution_count": 67,
     "metadata": {},
     "output_type": "execute_result"
    }
   ],
   "source": [
    "s.isdigit()"
   ]
  },
  {
   "cell_type": "code",
   "execution_count": 71,
   "id": "a431df79",
   "metadata": {},
   "outputs": [
    {
     "data": {
      "text/plain": [
       "True"
      ]
     },
     "execution_count": 71,
     "metadata": {},
     "output_type": "execute_result"
    }
   ],
   "source": [
    "s.endswith(\"j\")"
   ]
  },
  {
   "cell_type": "code",
   "execution_count": 75,
   "id": "9c07cc75",
   "metadata": {},
   "outputs": [
    {
     "data": {
      "text/plain": [
       "True"
      ]
     },
     "execution_count": 75,
     "metadata": {},
     "output_type": "execute_result"
    }
   ],
   "source": [
    "s.isalnum()"
   ]
  },
  {
   "cell_type": "code",
   "execution_count": 83,
   "id": "ba0b4ce0",
   "metadata": {},
   "outputs": [
    {
     "data": {
      "text/plain": [
       "False"
      ]
     },
     "execution_count": 83,
     "metadata": {},
     "output_type": "execute_result"
    }
   ],
   "source": [
    "s.istitle()"
   ]
  },
  {
   "cell_type": "code",
   "execution_count": 84,
   "id": "41156fdb",
   "metadata": {},
   "outputs": [
    {
     "data": {
      "text/plain": [
       "True"
      ]
     },
     "execution_count": 84,
     "metadata": {},
     "output_type": "execute_result"
    }
   ],
   "source": [
    "s.startswith(\"M\")"
   ]
  },
  {
   "cell_type": "code",
   "execution_count": 87,
   "id": "ce170329",
   "metadata": {},
   "outputs": [
    {
     "data": {
      "text/plain": [
       "True"
      ]
     },
     "execution_count": 87,
     "metadata": {},
     "output_type": "execute_result"
    }
   ],
   "source": [
    "s.istitle()"
   ]
  },
  {
   "cell_type": "code",
   "execution_count": 88,
   "id": "3f2d809f",
   "metadata": {},
   "outputs": [
    {
     "data": {
      "text/plain": [
       "'This is a full stack batch'"
      ]
     },
     "execution_count": 88,
     "metadata": {},
     "output_type": "execute_result"
    }
   ],
   "source": [
    "s= \"This is a full stack batch\"\n",
    "s"
   ]
  },
  {
   "cell_type": "code",
   "execution_count": 94,
   "id": "c32f8fd8",
   "metadata": {},
   "outputs": [
    {
     "name": "stdout",
     "output_type": "stream",
     "text": [
      "26\n"
     ]
    }
   ],
   "source": [
    "count = 0\n",
    "for i in s:\n",
    "    count+=1\n",
    "print(count)\n",
    "    "
   ]
  },
  {
   "cell_type": "code",
   "execution_count": 101,
   "id": "9569c8fd",
   "metadata": {},
   "outputs": [
    {
     "name": "stdout",
     "output_type": "stream",
     "text": [
      "hctab kcats lluf a si sihT"
     ]
    }
   ],
   "source": [
    "for i in range (1, len (s)+1):\n",
    "    print(s[-i], end = \"\")"
   ]
  },
  {
   "cell_type": "code",
   "execution_count": 139,
   "id": "25c50c6b",
   "metadata": {},
   "outputs": [
    {
     "name": "stdout",
     "output_type": "stream",
     "text": [
      "i - vowel\n",
      "n- consonant\n",
      "e - vowel\n",
      "u - vowel\n",
      "r- consonant\n",
      "o - vowel\n",
      "n- consonant\n"
     ]
    }
   ],
   "source": [
    "n = \"iNeuron\"\n",
    "n_lower = n.lower()\n",
    "v = \"aeiou\"\n",
    "con = \"bcdfghjklmnpqrstvwxyz\"\n",
    "for a in n_lower:\n",
    "    for j in v:\n",
    "        if a == j:\n",
    "            print(a + \" - vowel\")\n",
    "    for c in con:\n",
    "        if a == c:\n",
    "            print(a + \"- consonant\")"
   ]
  },
  {
   "cell_type": "code",
   "execution_count": 144,
   "id": "30d51bec",
   "metadata": {},
   "outputs": [
    {
     "name": "stdout",
     "output_type": "stream",
     "text": [
      "What is your name?Girija Shankar\n",
      "G is not a vowel\n",
      "i is a vowel\n",
      "r is not a vowel\n",
      "i is a vowel\n",
      "j is not a vowel\n",
      "a is a vowel\n",
      " \n",
      "S is not a vowel\n",
      "h is not a vowel\n",
      "a is a vowel\n",
      "n is not a vowel\n",
      "k is not a vowel\n",
      "a is a vowel\n",
      "r is not a vowel\n"
     ]
    }
   ],
   "source": [
    "n = input(\"What is your name?\")\n",
    "\n",
    "v = \"AaEeIiOoUu\"\n",
    "\n",
    "for i in n:\n",
    "    if i in v:\n",
    "        print(i + \" is a vowel\")\n",
    "    elif i == \" \":\n",
    "        print(\" \")\n",
    "    else:\n",
    "        print(i + \" is not a vowel\")"
   ]
  },
  {
   "cell_type": "code",
   "execution_count": 163,
   "id": "52a47c01",
   "metadata": {},
   "outputs": [
    {
     "name": "stdout",
     "output_type": "stream",
     "text": [
      "Provide a data to check its a pelindrome or not? - nitin\n",
      "Its a pelindrome\n"
     ]
    }
   ],
   "source": [
    "s1 = input(\"Provide a data to check its a pelindrome or not? - \")\n",
    "s2 = s1[::-1]\n",
    "if s1 == s2:\n",
    "    print(\"Its a pelindrome\")\n",
    "else:\n",
    "    print(\"Its not\")\n",
    "\n",
    "    "
   ]
  },
  {
   "cell_type": "code",
   "execution_count": null,
   "id": "f848ddf3",
   "metadata": {},
   "outputs": [],
   "source": []
  }
 ],
 "metadata": {
  "kernelspec": {
   "display_name": "Python 3",
   "language": "python",
   "name": "python3"
  },
  "language_info": {
   "codemirror_mode": {
    "name": "ipython",
    "version": 3
   },
   "file_extension": ".py",
   "mimetype": "text/x-python",
   "name": "python",
   "nbconvert_exporter": "python",
   "pygments_lexer": "ipython3",
   "version": "3.8.8"
  }
 },
 "nbformat": 4,
 "nbformat_minor": 5
}
